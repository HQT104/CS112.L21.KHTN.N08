{
  "nbformat": 4,
  "nbformat_minor": 0,
  "metadata": {
    "colab": {
      "name": "Untitled5.ipynb",
      "provenance": [],
      "collapsed_sections": [],
      "authorship_tag": "ABX9TyNimeoiben3EjNYSxDNHywG",
      "include_colab_link": true
    },
    "kernelspec": {
      "name": "python3",
      "display_name": "Python 3"
    },
    "language_info": {
      "name": "python"
    }
  },
  "cells": [
    {
      "cell_type": "markdown",
      "metadata": {
        "id": "view-in-github",
        "colab_type": "text"
      },
      "source": [
        "<a href=\"https://colab.research.google.com/github/YaibaUyliam/CS112.L21.KHTN.N08-1/blob/master/Conduonggomsu.ipynb\" target=\"_parent\"><img src=\"https://colab.research.google.com/assets/colab-badge.svg\" alt=\"Open In Colab\"/></a>"
      ]
    },
    {
      "source": [
        "# Bài 3. Con đường gốm sứ\n",
        "Đề bài\n",
        "Sau khi bê tông hóa đê chống lụt, thành phố quyết định cho khảm lên tường bê tông của đê tranh ghép tạo bởi các mảnh gốm sứ lấy từ các lò gốm nổi tiếng trong nước. Toàn bộ con đê được chia thành n phần có độ rộng giống nhau, mỗi phần gọi là một lô. Mỗi bức tranh khảm trên đó đều phải có độ rộng giống nhau, tức là bao gồm một số như nhau các lô liên tiếp và toàn bộ tường phải được phủ kín tranh từ đầu đến cuối, mỗi lô phải được tạo màu chủ đạo (gọi là màu của lô) từ một loại gốm đặc trưng lấy từ một lò gốm nào đó trong nước, ví dụ gốm màu xanh Cô ban từ lò gốm Ánh Hồng Quảng Ninh, gốm da lươn – từ Bát Tràng Hà Nội, gốm mộc hồng nhạt – từ Biên Hòa Đồng Nai,... Các loại gốm này được đánh số từ 1 đến 50 000.\n",
        "\n",
        "Hướng dẫn viên du lịch giới thiệu với khách tham quan là có 2 nhóm nghệ nhân được giao việc tạo hình và khảm tranh. Với mỗi nhóm các bức tranh của đều được đặc trưng bởi dãy số (c1, c2,..., ck), trong đó k là độ rộng của tranh, ci – màu của lô, i = 1 ÷ k, các bức tranh khác nhau có thể khác nhau ở trình tự xuất hiện màu của các lô, ví dụ với dãy số đặc trưng (2, 6, 2, 9), trình tự màu trong tranh có thể là (9, 2, 2, 6) hoặc (6, 9, 2, 2) nhưng không thể là (6, 9, 2, 3). Dãy đặc trưng của 2 nhóm là khác nhau, tức là không thể bằng phép hoán vị trình tự màu của lô để đưa một dãy về dãy kia. Các bức tranh được ghép với nhau rất hài hòa và khách tham quan không nhận biết được sự chuyển tiếp từ tranh này sang tranh khác. Tuy vậy nhiều khách tham quan vẫn muốn biết có bao nhiêu bức tranh đã tạo ra và trong đó số bức tranh của mỗi nhóm là bao nhiêu.\n",
        "\n",
        "Hãy xác định số lượng tranh có thể có và số lượng tranh mỗi nhóm đã làm. biết rằng nhóm nào cũng có tranh của mình.\n",
        "Dữ liệu:\n",
        "\n",
        "Dòng đầu tiên chứa một số nguyên n – số lượng lô của con đê (2 <= n <= 105)\n",
        "\n",
        "Dòng thứ 2 chứa n số nguyên $a_1, a_2,..., a_n$ – màu của các lô $(1 <= a_i <= 50 000, i = 1 ÷ n).$\n",
        "\n",
        "Kết quả: dòng đầu tiên chứa số nguyên m – số lượng phương án khác nhau chia con đường thành các bức tranh, nếu không có cách phân chia để đảm bảo phân biệt tranh của đúng 2 nhóm thì đưa ra số -1. Nếu có cách phân biệt thì ở mỗi dòng tiếp theo đưa ra 3 số nguyên k, p và q – độ rộng bức tranh, số tranh do nhóm 1 thực hiện và số tranh do nhóm 2 thực hiện, thông tin đưa ra theo thứ tự tăng dần của k và ở mỗi dòng có $p >= q > 0$.\n",
        "# 1. Abstraction\n",
        "Cho số n. Xóa hoặc thay đổi vị trí các chữ số trong n sao cho n lớn nhất và chia hết cho 3.\n",
        "# 2. Pattern Recognition\n",
        "Tạo list chứa các chữ số của n. Sắp xếp và chỉnh sửa list sao cho tổng các phần tử của list chia hết cho 3.\n",
        "# 3. Algorithm Design\n",
        "\n",
        "  *  Kiểm tra 2 dãy hoán vị khác nhau không ta dựa vào tổng của 2 dãy con đó\n",
        "  *  Để 2 dãy con khác nhau đảm bảo có tổng khác nhau, thì mỗi phần từ ta + 50021 và bình phương để đảm bảo tổng 2 dãy con khác nhau thì sẽ luôn      luôn khác nhau\n",
        "* Kiểm tra các đoạn tranh là ước số của n\n",
        "   * Đếm số lượng đoạn tranh khác nhau nếu < 3 thì lưu vào mảng KQ, ngược lại sẽ loại\n",
        "   * Sắp xếp mảng KQ \n",
        "\n",
        "# 4. Độ phức tạp thuật toán\n",
        "O(√n logn)"
      ],
      "cell_type": "markdown",
      "metadata": {
        "id": "zkQqRlwjAtpt"
      }
    },
    {
      "cell_type": "markdown",
      "metadata": {
        "id": "tq76chKKmUPR"
      },
      "source": [
        "# 5. Programming"
      ]
    },
    {
      "cell_type": "code",
      "metadata": {
        "id": "Sod8b20bArAT"
      },
      "source": [
        "import math\n",
        "import sys\n",
        "\n",
        "def KT(A, n, gcd):\n",
        "    N1 = 0\n",
        "    p  = 0\n",
        "    N2 = 0\n",
        "    q  = 0\n",
        "    T  = 1\n",
        "    for j in range(gcd, n + 1, gcd):\n",
        "        z = A[j] - A[j - gcd]        \n",
        "        if (N1 == 0):\n",
        "            N1 = z\n",
        "            p  = 1\n",
        "        elif (N1 == z):\n",
        "            p += 1\n",
        "        elif (N2 == 0):\n",
        "            N2 = z\n",
        "            q  = 1\n",
        "        elif (N2 == z):\n",
        "            q +=1\n",
        "        elif (N1 != 0) & (N2 != 0):\n",
        "            T = 0\n",
        "            break\n",
        "    if T & (q != 0):\n",
        "        return (T, gcd, p, q)\n",
        "    else:\n",
        "        return (0, 0, 0, 0)\n",
        "\n",
        "n = int(input())\n",
        "A = []\n",
        "A.append(0)\n",
        "[A.append(int(x)) for x in input().split()]\n",
        "\n",
        "for i in range(0, n + 1, 1):\n",
        "    A[i] += 50021\n",
        "    A[i] **=2\n",
        "    A[i] += A[i-1]\n",
        "KQ = []\n",
        "for gcd in range(1, int(math.sqrt(n + 1)) + 1, 1):\n",
        "    if (n % gcd == 0):\n",
        "        T = KT(A, n, gcd)\n",
        "        if T[0]:   \n",
        "            KQ.append([T[1], T[2], T[3]])\n",
        "        if (n // gcd != n) & (n // gcd != gcd):\n",
        "            T = KT(A,n, n // gcd)\n",
        "            if T[0]:   \n",
        "                KQ.append([T[1], T[2], T[3]])\n",
        "    \n",
        "KQ = sorted(KQ)\n",
        "if len(KQ) == 0:\n",
        "    print(-1)\n",
        "else: \n",
        "    print(len(KQ))\n",
        "    print('\\n'.join([' '.join(['{:}'.format(item) for item in row]) \n",
        "        for row in KQ]))"
      ],
      "execution_count": null,
      "outputs": []
    }
  ]
}