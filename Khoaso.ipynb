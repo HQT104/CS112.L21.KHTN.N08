{
  "nbformat": 4,
  "nbformat_minor": 0,
  "metadata": {
    "colab": {
      "name": "Untitled5.ipynb",
      "provenance": [],
      "collapsed_sections": [],
      "authorship_tag": "ABX9TyM41yAaiEQ3qSywxZQeqe7Y",
      "include_colab_link": true
    },
    "kernelspec": {
      "name": "python3",
      "display_name": "Python 3"
    },
    "language_info": {
      "name": "python"
    }
  },
  "cells": [
    {
      "cell_type": "markdown",
      "metadata": {
        "id": "view-in-github",
        "colab_type": "text"
      },
      "source": [
        "<a href=\"https://colab.research.google.com/github/YaibaUyliam/CS112.L21.KHTN.N08-1/blob/master/Khoaso.ipynb\" target=\"_parent\"><img src=\"https://colab.research.google.com/assets/colab-badge.svg\" alt=\"Open In Colab\"/></a>"
      ]
    },
    {
      "cell_type": "markdown",
      "metadata": {
        "id": "zkQqRlwjAtpt"
      },
      "source": [
        "#Bài 2. Khóa số\n",
        "Đề bài\n",
        "Để tăng độ an toàn chống hiện tượng cướp ngân hàng ngày càng phổ biến người ta dùng khóa số với mã mở khóa đơn giản nhưng rất hiệu quả. Trên cửa ra vào hiển thị một xâu khá dài các ký tự số. Các chữ số có thể di chuyển đổi chổ cho nhau hoặc bị xóa. Muốn mở khóa người ta phải di chuyển các chữ số và trong trường hợp cần thiết – xóa vài chữ số để nhận được xâu lớn nhất thỏa mãn điều kiện đã cài đặt. Điều kiện này được thay đổi thường xuyên. Hôm nay điều kiện đó là “Số nhận được phải chia hết cho 3”. Số nhận được có thể bắt đầu bằng các chữ số 0. Xâu “000” sẽ lớn hơn xâu “00”.\n",
        "\n",
        "Hãy xác định khóa mở cửa.\n",
        "\n",
        "Dữ liệu: Vào từ thiết bị nhập chuẩn gồm một xâu ký tự số có độ dài lớn hơn 2 và không vượt quá 105.\n",
        "\n",
        "Kết quả: Đưa ra thiết bị xuất chuẩn xâu khóa mở cửa.\n",
        "\n",
        "#1. Abstraction\n",
        "Cho số n. Xóa hoặc thay đổi vị trí các chữ số trong n sao cho n lớn nhất và chia hết cho 3.\n",
        "#2. Pattern Recognition\n",
        "Tạo list chứa các chữ số của n. Sắp xếp và chỉnh sửa list sao cho tổng các phần tử của list chia hết cho 3.\n",
        "#3. Algorithm Design\n",
        "Tạo list A có 9 phần tử đều bằng 0.  \n",
        "Giá trị phần tử của A tăng thêm 1 nếu chỉ số của nó là 1 trong các chữ số của n. Tính tổng giá trị các phần tử của A rồi tính số dư khi lấy nó chia cho 3.\n",
        "Trường hợp 1: Nếu số dư là 0 thì xuất ra số n có các chữ số giảm dần.\n",
        "Trường hợp 2: Nếu số dư là 1 thì loại bỏ chữ số nhỏ nhất của n chia 3 dư 1. Nếu không tồn tại thì loại 2 chữ số nhỏ nhất của n chia 3 dư 2. Xuất ra số n có các chữ số giảm dần.\n",
        "Trường hợp 3: Làm tương tự trường hợp 2.\n",
        "#4. Độ phức tạp thuật toán\n",
        "O(logn)"
      ]
    },
    {
      "cell_type": "markdown",
      "metadata": {
        "id": "tq76chKKmUPR"
      },
      "source": [
        "#5. Programming"
      ]
    },
    {
      "cell_type": "code",
      "metadata": {
        "id": "Sod8b20bArAT"
      },
      "source": [
        "import sys\n",
        "A = sys.stdin.readline().strip()\n",
        "B = [0, 0, 0, 0, 0, 0, 0, 0, 0, 0]\n",
        "sum = 0\n",
        "for i in A:\n",
        "    T = int(i)\n",
        "    B[T] += 1\n",
        "    sum  += T\n",
        "sum %= 3\n",
        "T = 0\n",
        "if (sum != 0):\n",
        "    for i in range (sum, 10, 3):\n",
        "        if B[i] > 0:\n",
        "            T = 1\n",
        "            B[i] -= 1\n",
        "            break\n",
        "    if (T == 0):\n",
        "        if (sum == 1):\n",
        "            mod = 2\n",
        "        else:\n",
        "            mod = 1\n",
        "        Sl = 2\n",
        "        while mod < 10:\n",
        "            if (B[mod] > 0):\n",
        "                B[mod] -= 1\n",
        "                Sl     -= 1\n",
        "                mod    -= 3\n",
        "            if (Sl == 0):\n",
        "                break\n",
        "            mod += 3\n",
        "\n",
        "for i in range(9, -1, -1):\n",
        "    for j in range(0, B[i], 1):\n",
        "        sys.stdout.write(str(i))"
      ],
      "execution_count": null,
      "outputs": []
    }
  ]
}