{
  "nbformat": 4,
  "nbformat_minor": 0,
  "metadata": {
    "colab": {
      "name": "PhanSo.ipynb",
      "provenance": [],
      "collapsed_sections": []
    },
    "kernelspec": {
      "name": "python3",
      "display_name": "Python 3"
    },
    "language_info": {
      "name": "python"
    }
  },
  "cells": [
    {
      "cell_type": "markdown",
      "metadata": {
        "id": "GX3LaM2fevYo"
      },
      "source": [
        "Cho 2 phân số đúng và tối giản $\\frac{a}{b}, \\frac{c}{d}$. Mỗi phép biến đổi là tăng a và b lên 1, sau đó giản ước phân số nhận được.\n",
        "\n",
        "Hãy xác định sau bao nhiêu bước biến đổi từ phân số thứ nhất ban đầu nhận được phân số thứ 2 đã cho.\n",
        "\n",
        "Dữ liệu: Vào từ thiết bị nhập chuẩn gồm 4 dòng, mỗi dòng chứa 1 số nguyên a, b, c, d, 0 $\\le a \\le b ≤105$, $ 0 \\le c \\le d ≤ 105$, a và b nguyên tố cùng nhau, c và d nguyên tố cùng nhau $\\frac{a}{b} \\ne \\frac{c}{d}$\n",
        "\n",
        "Kết quả: Đưa ra thiết bị xuất chuẩn số 0 nếu không có cách biến đổi hoặc một số nguyên bằng số lượng phép biến đổi.\n",
        "\n",
        "Ví dụ:\n",
        "INPUT:\n",
        "\n",
        "1\n",
        "\n",
        "6\n",
        "\n",
        "2\n",
        "\n",
        "3\n",
        "\n",
        "OUTPUT:\n",
        "\n",
        "5\n",
        "\n",
        "#1.Abstraction\n",
        "cho 4 số nguyên dương a, b , c, d sau một lần biến đổi thì a và b tăng thêm 1 đơn vị và rút gọn. Tìm số lần biến đổi để ad = bc\n",
        "\n",
        "#2.Pattern Recognition\n",
        "Duyệt tuyến tính\n",
        "#3.Algorithm Design\n",
        "Thực hiện vòng lặp\n",
        "\n",
        "Nếu b - a < d - c xuất ra 0, kết thúc vòng lặp.\n",
        "\n",
        "a, b tăng lên 1 đơn vị và rút gọn phân số $\\frac{a}{b}$\n",
        "\n",
        "Biến dem để đếm số lần lặp\n",
        "\n",
        "Kết thúc vòng lặp khi ad = bc. Xuất ra biến dem.\n",
        "#4. Độ phức tạp\n",
        "O(n)\n",
        "#5.Programing"
      ]
    },
    {
      "cell_type": "code",
      "metadata": {
        "id": "ioEmRkOEebJY"
      },
      "source": [
        "import math\n",
        "\n",
        "a = int(input())\n",
        "b = int(input())\n",
        "c = int(input())\n",
        "d = int(input())\n",
        "\n",
        "dem = 0\n",
        "while(1):\n",
        "    \n",
        "    if b - a < d - c:\n",
        "        print(0) \n",
        "        break\n",
        "    \n",
        "    if a*d != b*c:\n",
        "        a += 1\n",
        "        b += 1\n",
        "        dem += 1\n",
        "\n",
        "    g =math.gcd(a, b)\n",
        "    a //= g\n",
        "    b //= g\n",
        "    \n",
        "    if a == c and b == d:\n",
        "        print(int(dem))\n",
        "        break\n",
        "\n",
        "    "
      ],
      "execution_count": null,
      "outputs": []
    }
  ]
}