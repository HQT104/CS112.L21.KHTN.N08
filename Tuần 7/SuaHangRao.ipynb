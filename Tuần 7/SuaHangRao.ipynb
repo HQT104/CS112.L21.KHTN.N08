{
  "nbformat": 4,
  "nbformat_minor": 0,
  "metadata": {
    "colab": {
      "name": "SuaHangRao.ipynb",
      "provenance": [],
      "collapsed_sections": []
    },
    "kernelspec": {
      "name": "python3",
      "display_name": "Python 3"
    },
    "language_info": {
      "name": "python"
    }
  },
  "cells": [
    {
      "cell_type": "markdown",
      "metadata": {
        "id": "GX3LaM2fevYo"
      },
      "source": [
        "#Sửa hàng rào\n",
        "##Đề bài\n",
        "Sau khi dựng xong nhà kho chứa cỏ, dì Poly quyết định dùng m tấm gỗ còn thừa gia cố hàng rào của vườn rau ngăn không cho gà vào phá và giao công việc này cho Tôm và Hấc Phin làm. Nhiệm vụ của hai cậu bé tội nghiệp là đóng thêm vào các tấm ván hàng rào để có hàng rào mới càng cao càng tốt. Nhìn vẽ mặt buồn thiu và lóng ngóng của 2 đứa Jim quyết định sẽ làm giúp. Hàng rào được ghép từ n tấm gỗ cùng độ rộng như nhau và bằng độ rộng của các tấm gỗ còn thừa, tấm thứ i có độ cao ai, i = 1 ÷ n. Tôm và Hấc Phin chỉ phải xếp các tấm còn thừa lên xe ba gác để Jim kéo đi. Các tấm gỗ được xếp thành một chồng, tính từ trên xuống tấm thứ j có độ dài bj, j = 1 ÷ m. Jim kéo xe ba gác đi dọc theo hàng rào. Đến một tấm nào đó muốn gia cố Jim sẽ lấy một tấm gỗ từ xe đóng tiếp lên tấm gỗ trên hàng rào và độ cao mới của tấm này trên hàng rào sẽ là tổng độ cao của tấm cũ và tấm mới đóng thêm. Jim chỉ đóng thêm một tấm mới vào tấm cũ vì muốn đảm bảo độ chắc chắn của hàng rào. Jim có thể lấy tấm trên cùng ở xe hoặc vất ra khỏi xe một số tấm cho đến khi gặp tấm vừa ý. Người ta vẫn nói “Khôn đâu tới trẻ, khỏe đâu tới già!” Jim đã đứng tuổi và không còn sức để xếp lại các tấm gỗ bị bỏ ra vào xe. Ngoài ra, Jim cũng khá mê tín nên không quay lại lấy những tấm đã loại.\n",
        "\n",
        "Hãy xác định độ cao lớn nhất có thể đạt được của hàng rào sau khi gia cố. Độ cao của hàng rào được tính bằng độ cao tấm gỗ thấp nhất trên hàng rào.\n",
        "\n",
        "Dữ liệu: Vào từ thiết bị nhập chuẩn:\n",
        "\n",
        "Dòng đầu tiên chứa số nguyên n (1 ≤ n ≤ 105),\n",
        "\n",
        "Dòng thứ 2 chứa n số nguyên a1, a2, . . ., an (1 ≤ ai ≤ 108, i = 1 ÷ n),\n",
        "\n",
        "Dòng thứ 3 chứa số nguyên m (1 ≤ m ≤ 105),\n",
        "\n",
        "Dòng cuối cùng chứ m số nguyên b1, b2, . . ., bm (1 ≤ bj ≤ 108, j = 1÷ m).\n",
        "\n",
        "Kết quả: Đưa ra thiết bị xuất chuẩn, dòng đầu tiên chứa 2 số nguyên h và k – độ cao lớn nhất có thể của hàng rào và số tấm gỗ đã được đóng thêm, mỗi dòng trong k dòng tiếp theo chứa 2 số nguyên x và y, trong đó x – tấm gỗ trên hàng rào được đóng cao hơn, y – tấm gỗ được dùng để đóng. Đưa ra phương án có các số hiệu tấm ván được chọn là nhỏ nhất nếu tồn tại nhiều cách đóng khác nhau.\n",
        "\n",
        "##1. Abstraction\n",
        "Cho 2 dãy số A, B; tìm dãy C gồm phần tử lấy từ A và B sao cho chỉ số các phần tử lấy từ A và B tăng dần và đảm bảo phép tính tổng phần tử dãy A với phần tử dãy B tương ứng liệt kê trong dãy C sẽ cho phần tử nhỏ nhất của dãy A sau khi tính là lớn nhất có thể .\n",
        "\n",
        "##2. Pattern Recognition\n",
        "Tìm kiếm nhị phân\n",
        "\n",
        "##3. Algorithm Design\n",
        "\n",
        "##4. Algorithm Complexity\n",
        "$O(nlog(n))$\n",
        "\n",
        "##5. Programming"
      ]
    },
    {
      "cell_type": "code",
      "metadata": {
        "id": "ioEmRkOEebJY"
      },
      "source": [
        "import sys\n",
        "def Check(mid):\n",
        "    j = 0\n",
        "    for i in range(n):\n",
        "        if A[i] < mid:\n",
        "            T = False\n",
        "            while j < m:\n",
        "                if B[j] + A[i] >= mid:\n",
        "                    T = True\n",
        "                    j += 1\n",
        "                    break\n",
        "                j += 1\n",
        "            if T == False:\n",
        "                return False\n",
        "    return True\n",
        "\n",
        "def Binary():\n",
        "    l = 1\n",
        "    r = int(1e9)\n",
        "    while(l <= r):\n",
        "        mid = (l + r)//2\n",
        "        if (Check(mid)):\n",
        "            l = mid + 1\n",
        "        else:\n",
        "            r = mid - 1\n",
        "    return r\n",
        "def Printf(h):\n",
        "    j = 0\n",
        "    KQ = []\n",
        "    for i in range(n):\n",
        "        if A[i] < h:\n",
        "            while j < m:\n",
        "                if B[j] + A[i] >= h:\n",
        "                    j += 1\n",
        "                    break\n",
        "                j+= 1\n",
        "            KQ.append((i + 1, j))\n",
        "    print(h, len(KQ))\n",
        "    for x in KQ:\n",
        "        print(x[0], x[1])\n",
        "n = int(sys.stdin.readline())\n",
        "A = []\n",
        "[A.append(int(i)) for i in sys.stdin.readline().strip().split()]\n",
        "m = int(sys.stdin.readline())\n",
        "B = []\n",
        "[B.append(int(i)) for i in sys.stdin.readline().strip().split()]\n",
        "\n",
        "h = Binary()\n",
        "Printf(h)"
      ],
      "execution_count": null,
      "outputs": []
    }
  ]
}