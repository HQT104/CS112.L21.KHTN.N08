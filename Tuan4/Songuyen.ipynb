{
  "nbformat": 4,
  "nbformat_minor": 0,
  "metadata": {
    "colab": {
      "name": "Untitled0.ipynb",
      "provenance": [],
      "collapsed_sections": []
    },
    "kernelspec": {
      "name": "python3",
      "display_name": "Python 3"
    },
    "language_info": {
      "name": "python"
    }
  },
  "cells": [
    {
      "cell_type": "markdown",
      "metadata": {
        "id": "GS8Spql435f1"
      },
      "source": [
        "#Bài 2. Số nguyên mới\n",
        "Cho số nguyên dương $n$ có không quá 100 chữ số. Hãy xác định số nguyên lớn nhất $m$ chia hết cho 3 và khác $n$ ở đúng một chữ số.\n",
        "\n",
        "Ví dụ, $n = 123$ thì $m$ sẽ là 723.\n",
        "\n",
        "Dữ liệu: Vào từ thiết bị nhập chuẩn gồm một dòng chứa số nguyên $n$ có không quá 100 chữ số và không chứa các số 0 không có nghĩa.\n",
        "\n",
        "Kết quả: Đưa ra thiết bị xuất chuẩn số nguyên $m$ tìm được.\n",
        "#1. Abtraction\n",
        "Tìm số khác n 1 chữ số lớn nhất chia hết cho 3.\n",
        "#2. Pattern Recognition\n",
        "Tìm tuần tự\n",
        "#3. Algorithm Design\n",
        "Tìm tuần tự từ hàng lớn nhất tới hàng bé nhất của n. \n",
        "Từ 9 xuống số lớn hơn chữ số của hàng đang xét 1 đơn vị, chọn 1 số thay thế chữ số ở hàng đó sao cho n chia hết cho 3. \n",
        "Xuất ra giá trị mới của n ngay khi thay thế 1 chữ số của nó.\n",
        "Nếu không chọn được số nào thì xét những số bé hơn chữ số ở hàng đơn vị. Chọn số lớn nhất có thể để thay thế chữ số hàng đơn vị của n sao cho n chia hết cho 3.\n",
        "#4. Độ phức tạp thuật toán\n",
        "O(n)"
      ]
    },
    {
      "cell_type": "code",
      "metadata": {
        "id": "5H0BBC1b34tu"
      },
      "source": [
        "sum_x = 0\n",
        "dh = 0\n",
        "int_x = []\n",
        "for i in input().strip():\n",
        "    int_x.append(int(i))\n",
        "    sum_x += int(i)\n",
        "\n",
        "for i in int_x:\n",
        "    sum_c = sum_x - i\n",
        "    if dh == 1:\n",
        "        break\n",
        "    for find in range(9, i, -1):\n",
        "        if (find + sum_c)%3 == 0:\n",
        "            int_x[int_x.index(i)] = find\n",
        "            dh = 1\n",
        "            break\n",
        "        \n",
        "if (dh == 0):\n",
        "    sum_c = sum_x - int_x[len(int_x)-1]\n",
        "    for find in range(int_x[len(int_x)-1]-1,-1,-1):\n",
        "        if (find + sum_c)%3 == 0:\n",
        "            int_x[len(int_x)-1] = find\n",
        "            break\n",
        "\n",
        "        \n",
        "for i in int_x:\n",
        "    print(i, end=\"\")\n",
        "   \n"
      ],
      "execution_count": null,
      "outputs": []
    }
  ]
}