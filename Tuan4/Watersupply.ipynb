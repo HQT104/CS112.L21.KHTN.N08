{
  "nbformat": 4,
  "nbformat_minor": 0,
  "metadata": {
    "colab": {
      "name": "Watersupply.ipynb",
      "provenance": [],
      "collapsed_sections": []
    },
    "kernelspec": {
      "name": "python3",
      "display_name": "Python 3"
    },
    "language_info": {
      "name": "python"
    }
  },
  "cells": [
    {
      "cell_type": "markdown",
      "metadata": {
        "id": "evTC50PhJUAJ"
      },
      "source": [
        "# **HỆ THỐNG CẤP NƯỚC**\n",
        "# **Đề bài**\n",
        "Vùng đất diệu kỳ Wonderland có N hộ gia đình đã được trang bị một hệ thống cung cấp nước sạch đến từng ngôi nhà. Mỗi đường ống nối trực tiếp 2 nhà, nước chảy trong đường ống theo 2 chiều, có thể truyền qua nhiều trung gian trước khi đến một nhà nào đó. Trong hồ sơ lưu trữ, các ngôi nhà được ghi số từ 1 đến N.\n",
        "\n",
        "Một trận động đất đã gây nên sự cố nghiêm trọng làm cho cả vùng bị chia cắt thành nhiều khu vực rời nhau, không còn tiếp cận được với nguồn nước. Để khắc phục, những người có trách nhiệm đã khảo sát hiện trạng và ghi nhận được toàn vùng đất đang thảm họa vẫn còn M đường ống đang hoạt động tốt.\n",
        "\n",
        "Nhiệm vụ đặt ra là phải khôi phục hệ thống cấp nước bằng cách lắp thêm một số đường ống. Tuy nhiên, do hạn chế về thời gian và kinh phí nên đòi hỏi phương án khôi phục phải được thực hiện với ít đường ống được lắp thêm nhất. Câu hỏi đặt ra: cần lắp thêm ít nhất bao nhiêu đường ống để hệ thống cấp nước có thể đưa nước đến từng ngôi nhà. Câu hỏi phụ: có bao nhiêu phương án khác nhau đáp ứng yêu cầu; số phương án có thể khá lớn nên chỉ cần đưa ra số dư khi chia cho 109+7.\n",
        "\n",
        "**Dữ liệu:** Vào từ thiết bị nhập chuẩn:\n",
        "\n",
        "* Dòng đầu tiên chứa 2 số nguyên N, M (1 ≤ N, M  ≤ 105)\n",
        "\n",
        "* Mỗi dòng trong M dòng tiếp theo chứa 2 số nguyên a, b (1 ≤ a,  b ≤ N). cho biết vẫn còn đường ống nối nhà a với nhà b\n",
        "\n",
        "**Kết quả:** Đưa ra thiết bị xuất chuẩn số đường ống cần được lắp thêm và số phương án đáp ứng yêu cầu (theo mô đun 10e9+7) mỗi số trên một dòng.\n",
        "#**1. Abstraction**\n",
        "Cho đồ thị vô hướng n đỉnh và m cạnh. Tính số thành phần liên thông và số cách nối các thành phần liên thông (% 1e9 + 7)\n",
        "#**2. Pattern recognition**\n",
        "* DFS\n",
        "* Cây khung\n",
        "\n",
        "#**3. Algorithm design**\n",
        "* Số các đỉnh chưa được ghé thăm là số thành phần liên thông\n",
        "* Số cách nối các thành phần liên thông = n1*n2*..*nk* n^(k-2)\n",
        "\n",
        "  Trong đó:\n",
        "  *  k là số thành phần liên thông\n",
        "  *  n1,n2, ...nk là số lượng đỉnh trong các thành phần liên thông\n",
        "  *  n là số đỉnh của đồ thị\n",
        "\n",
        "\n",
        "#**4. Độ phức tạp của thuật toán**\n",
        "  O(n+m)\n",
        "#**5. Programming**\n"
      ]
    },
    {
      "cell_type": "code",
      "metadata": {
        "id": "o8YT5lRoJmcY"
      },
      "source": [
        "import sys\n",
        "from collections import defaultdict\n",
        "\n",
        "graph = defaultdict(list)\n",
        "\n",
        "def addEdge(u, v):\n",
        "\tgraph[u].append(v)\n",
        "\tgraph[v].append(u)\n",
        "\n",
        "def DFS(vertices):\n",
        "\tvisited = set()\n",
        "\tk = 0\t\n",
        "\tmod = int(1e9 + 7)\n",
        "\tsum = 1\n",
        "\tfor v in range (vertices):\n",
        "\t\tif (v not in visited):\n",
        "\t\t\tk += 1\n",
        "\t\t\tto_visit = set()\n",
        "\t\t\tto_visit.add(v)\n",
        "\t\t\tcnt = 0\n",
        "\t\t\twhile(len(to_visit) > 0):\n",
        "\t\t\t\tnode = to_visit.pop()\n",
        "\t\t\t\tcnt += 1\n",
        "\t\t\t\tvisited.add(node)\n",
        "\t\t\t\tfor neighbour in graph[node]:\n",
        "\t\t\t\t\tif (neighbour not in visited) :\n",
        "\t\t\t\t\t\tto_visit.add(neighbour)\n",
        "\t\t\tsum = (sum * cnt) % mod\n",
        "\tprint(k - 1)\n",
        "\tif (k == 1):\n",
        "\t\tprint(0)\n",
        "\telse:\n",
        "\t\tsum = (sum * (vertices ** (k - 2) % mod)) % mod\n",
        "\t\tprint(sum)\n",
        "\n",
        "n, m = map(int, sys.stdin.readline().strip().split())\n",
        "for i in range (m):\n",
        "\tu, v = map(int, sys.stdin.readline().strip().split())\n",
        "\taddEdge(u - 1, v - 1)\n",
        "DFS(n)"
      ],
      "execution_count": null,
      "outputs": []
    }
  ]
}
