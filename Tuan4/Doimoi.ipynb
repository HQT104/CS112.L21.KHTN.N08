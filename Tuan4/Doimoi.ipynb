{
  "nbformat": 4,
  "nbformat_minor": 0,
  "metadata": {
    "colab": {
      "name": "Doimoi.ipynb",
      "provenance": [],
      "collapsed_sections": []
    },
    "kernelspec": {
      "name": "python3",
      "display_name": "Python 3"
    },
    "language_info": {
      "name": "python"
    }
  },
  "cells": [
    {
      "cell_type": "markdown",
      "metadata": {
        "id": "YgAQCExexjwC"
      },
      "source": [
        "#Bài 1. ĐỔI MỚI\n",
        "Thành phố quyết định chặt hạ hết $n$ cây xanh hiện có trong thành phố để trồng chỉ một loại cây mới. Nhiệm vụ được giao cho Công ty Cây xanh thành phố. Do hạn chế về thiết bị Công ty chỉ tổ chức được 2 đội đốn hạ cây. Đội I hạ được $a$ cây mỗi ngày, nhưng cứ mối ngày thứ $k$ thì phải nghỉ để bảo dưỡng kỹ thuật, tức là đội I sẽ nghỉ vào các ngày $k$, $2k$, $3k$, . . . Đội II hạ được $b$ cây mỗi ngày, nhưng cứ mỗi ngày thứ $m$ thì phải nghỉ để bảo dưỡng kỹ thuật, tức là đội II sẽ nghỉ vào các ngày $m$, $2m$, $3m$, . . . Ở ngày nghỉ, số cây chặt hạ của đội sẽ là 0. Cả hai đội bắt đầu công việc vào cùng một ngày và làm việc song song với nhau.\n",
        "\n",
        "Công việc trồng cây mới sẽ bắt đầu sau khi toàn bộ cây cũ đã bị đốn hạ.\n",
        "\n",
        "Hãy xác định sau bao nhiêu ngày thì có thể bắt đầu việc trồng mới cây.\n",
        "\n",
        "Dữ liệu: Vào từ thiết bị nhập chuẩn gồm một dòng chứa 5 số nguyên a, k, b, m, n (1 ≤ a, b ≤ $10^{9}, 2 ≤ k, m ≤ 10^{18}, 1 ≤ n ≤ 10^{18}$).\n",
        "\n",
        "Kết quả: Đưa ra thiết bị xuất chuẩn một số nguyên – số ngày tính được.\n",
        "#1.Abstraction\n",
        "Tìm nghiệm nhỏ nhất của bất phương trình $f(x) = a(x - \\left\\lfloor \\frac{x}{k} \\right\\rfloor)  + b(x - \\left\\lfloor \\frac{x}{m} \\right\\rfloor) \\geq n$ với các tham số $a, k, b, m, n$.\n",
        "#2. Patter Recognition\n",
        "Sử dụng chia để trị\n",
        "#3. Algorithm Design \n",
        " Cho l và m lần lượt bằng giới hạn nhỏ nhất và lớn nhất của x. \n",
        "Bước 1. Nếu l $\\le$ r Tính x = (l+r)/2. Ngược lại tới bước 4.\n",
        "Bước 2. Tính hàm f(x). Nếu f(x) $\\ge$ n thì r = mid - 1 ngược lại l = mid + 1.\n",
        "Bước 3. Trả về giá trị l.\n",
        "#4. Độ phức tạp\n",
        "O(n)"
      ]
    },
    {
      "cell_type": "code",
      "metadata": {
        "id": "_-2qtifcKKm_"
      },
      "source": [
        "def binary(a,k,b,m, n):\n",
        "    l, r = [1, int(10e18)]\n",
        "    while (l <= r):\n",
        "        mid = (l+r)//2\n",
        "        kq = a*(mid - mid//k)+b*(mid-mid//m)-n\n",
        "    \n",
        "        if kq >=0:\n",
        "            r = mid - 1\n",
        "        else:\n",
        "            l = mid + 1\n",
        "    return int(l)\n",
        "a,k,b,m,n = map(int, input().strip().split())\n",
        "print(binary(a,k,b,m,n))"
      ],
      "execution_count": null,
      "outputs": []
    }
  ]
}