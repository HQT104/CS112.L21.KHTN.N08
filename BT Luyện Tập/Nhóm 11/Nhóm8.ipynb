{
  "nbformat": 4,
  "nbformat_minor": 0,
  "metadata": {
    "colab": {
      "name": "Nhóm8.ipynb",
      "provenance": [],
      "collapsed_sections": []
    },
    "kernelspec": {
      "name": "python3",
      "display_name": "Python 3"
    },
    "language_info": {
      "name": "python"
    }
  },
  "cells": [
    {
      "cell_type": "markdown",
      "metadata": {
        "id": "T3tOrEyL8aPu"
      },
      "source": [
        "# 1. Abstraction\n",
        "Cho một mảng gồm các số nguyên dương, tìm ra mảng có 3 phần tử có tổng lớn nhất và thỏa tính chất 3 cạnh của một tam giác. Nếu không có mản con thảo điều kiện in ra -1\n",
        "\n",
        "#2. Pattern Recognition\n",
        "- Sắp xếp mảng từ lớn đến bé.\n",
        "\n",
        "#3. Algorithm Design\n",
        "1. Sắp xếp mảng theo thứ tự giảm dần. \n",
        "\n",
        "2. Duyệt mảng từ 0 đến len(sticks)-3 với biến i :\n",
        "- Nếu ${sticks[i] < sticks[i+1] + sticks[i+2]}$ thì xuất ra kết quả.\n",
        "- Nếu không xuất -1\n",
        "\n",
        "#4. Độ phức tạp \n",
        "O(n)"
      ]
    },
    {
      "cell_type": "code",
      "metadata": {
        "colab": {
          "base_uri": "https://localhost:8080/"
        },
        "id": "J2XR2nme8Y-w",
        "outputId": "183318c4-b09d-48e2-c6c4-34971593c124"
      },
      "source": [
        "def maximumPerimeterTriangle(sticks):\n",
        "    sticks.sort(reverse = True)\n",
        "    res = []\n",
        "    for i in range(len(sticks) - 2):\n",
        "        if sticks[i] >= sticks[i+1] + sticks[i+2]:\n",
        "            continue\n",
        "        res = str(sticks[i+2]) + \" \" + str(sticks[i+1]) + \" \" + str(sticks[i]) \n",
        "        return res\n",
        "    return -1\n",
        "n = int(input())\n",
        "sticks = list(map(int, input().strip().split()))\n",
        "print(maximumPerimeterTriangle(sticks))"
      ],
      "execution_count": 1,
      "outputs": [
        {
          "output_type": "stream",
          "text": [
            "5\n",
            "2\n",
            "-1\n"
          ],
          "name": "stdout"
        }
      ]
    }
  ]
}