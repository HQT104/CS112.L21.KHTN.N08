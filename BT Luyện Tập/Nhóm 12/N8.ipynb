{
  "nbformat": 4,
  "nbformat_minor": 0,
  "metadata": {
    "colab": {
      "name": "N8.ipynb",
      "provenance": [],
      "collapsed_sections": []
    },
    "kernelspec": {
      "name": "python3",
      "display_name": "Python 3"
    },
    "language_info": {
      "name": "python"
    }
  },
  "cells": [
    {
      "cell_type": "markdown",
      "metadata": {
        "id": "3vHPBaykt32S"
      },
      "source": [
        "#Đề bài\n",
        "Mực nước biển ngày càng tăng là một vấn đề khó khăn mà cả thế giới phải đối mặt trong những năm tiếp theo. Bởi vì Trái Đất Ngày một nóng lên khiến băng ở cực Bắc và cực Nam tan ra. Dự kiến đến năm 2100, nước biển sẽ dâng lên khoảng 30 - 130 cm, đe dọa hệ san hô và các khu vực thấp của thế giới. Các quốc đảo và những thành phố lớn như New York, Los Angeles, Mumbai, Sydney, Rio de Janeiro... sẽ chìm dưới nước. Vì thế, chúng ta cần phải đếm số lượng khu vực đất liền chưa bị chìm dưới nước để có thể đưa ra những sự giải pháp kịp thời.\n",
        "\n",
        "Giả sử bản đồ là một ma trận hai chiều chỉ có giá trị là 0 hoặc 1. Số 1 tượng trưng cho khu vực đất liền và số 0 tượng trưng cho khu vực nước biển. Hai hay nhiều số 1 nằm kề nhau (9 vị trí xung quanh) chỉ được coi là một khu vực. Hãy tính số lượng khu vực đất liền có trong bản đồ.\n",
        "Hãy sử dụng Computational Thinking để giải quyết bài toán trên.\n",
        "##1. Abstraction\n",
        "Cho một mảng 2 chiều với các phần tử mang giá trị 0 và 1. Các phần tử có giá trị 1 đứng lân cận nhau tạo thành một chuỗi các phần tử. Tính toán xem có bao nhiêu chuỗi như vậy\n",
        "##2. Decomposition\n",
        "Xác định các phần tử có giá trị 1 xung quanh 1 phần tử đang xét\n",
        "##3. Pattern Recogntion\n",
        "Bài toán xác định các phần tử lân cận\n",
        "##4. Alogorithm Design\n",
        "- Lần lượt kiểm tra các phần tử theo thứ tự trong ma trận:\n",
        "1. Nếu có phần tử bằng 1. Nếu có thì số vùng đất tăng lên 1. \n",
        "2. Kiểm tra các vùng lân cận vị trí vừa xác định được xem có phần tử nào bằng 1 nữa không. Nếu có thì đánh dấu để không xét điểm đó ở bước 1 nữa.\n",
        "- In ra kết quả số vùng đất tìm được\n",
        "\n",
        "##5. Độ phức tạp của thuật toán \n",
        "Độ phức tạp thuật toán:  O(nm)  với n = num_row, m = num_col"
      ]
    },
    {
      "cell_type": "code",
      "metadata": {
        "colab": {
          "base_uri": "https://localhost:8080/"
        },
        "id": "mbG9YrWhsOGL",
        "outputId": "bd9770fc-a872-4dc8-a6ba-a40bde75fd9c"
      },
      "source": [
        "from queue import Queue\n",
        "\n",
        "def Check(x, y, mat):\n",
        "  n = len(mat)\n",
        "  if x < 0 or y < 0 or x>=n or y>=n or mat[x][y] == 0:\n",
        "    return False\n",
        "  return True\n",
        "\n",
        "def BFS(u, v, mat, check):\n",
        "  q = Queue()\n",
        "  q.put((u, v))\n",
        "  dx = [-1, -1, 0, 1, 1, 1, 0, -1]\n",
        "  dy = [0, -1, -1, -1, 0, 1, 1, 1]\n",
        "\n",
        "  while q.empty() == False:\n",
        "    x, y = q.get()\n",
        "    check[x][y] = 1\n",
        "    for i in range(8):\n",
        "      u = x + dx[i]\n",
        "      v = y + dy[i]\n",
        "    if Check(u, v, mat):\n",
        "      q.put((u, v))\n",
        "\n",
        "def count_connected_component(mat):\n",
        "  n = len(mat)\n",
        "  cnt = 0\n",
        "  check = [[0] * n] * n\n",
        "  for i in range(n):\n",
        "    for j in range(n):\n",
        "      if mat[i][j] and check[i][j] == 0:\n",
        "        BFS(i, j, mat, check)\n",
        "        cnt += 1\n",
        "        print(i, j)\n",
        "  print(cnt)\n",
        "      \n",
        "mat = [[1, 1, 0, 0, 0],\n",
        "       [0, 1, 0, 0, 1],\n",
        "       [1, 0, 0, 1, 1],\n",
        "       [0, 0, 0, 0, 0],\n",
        "       [1, 0, 1, 0, 1]]\n",
        "count_connected_component(mat)"
      ],
      "execution_count": null,
      "outputs": [
        {
          "output_type": "stream",
          "text": [
            "[[1, 0, 0, 0, 0], [1, 0, 0, 0, 0], [1, 0, 0, 0, 0], [1, 0, 0, 0, 0], [1, 0, 0, 0, 0]]\n",
            "[[1, 0, 0, 0, 0], [1, 0, 0, 0, 0], [1, 0, 0, 0, 0], [1, 0, 0, 0, 0], [1, 0, 0, 0, 0]]\n",
            "0 0\n",
            "[[1, 1, 0, 0, 0], [1, 1, 0, 0, 0], [1, 1, 0, 0, 0], [1, 1, 0, 0, 0], [1, 1, 0, 0, 0]]\n",
            "[[1, 1, 0, 0, 0], [1, 1, 0, 0, 0], [1, 1, 0, 0, 0], [1, 1, 0, 0, 0], [1, 1, 0, 0, 0]]\n",
            "0 1\n",
            "[[1, 1, 0, 0, 1], [1, 1, 0, 0, 1], [1, 1, 0, 0, 1], [1, 1, 0, 0, 1], [1, 1, 0, 0, 1]]\n",
            "[[1, 1, 0, 0, 1], [1, 1, 0, 0, 1], [1, 1, 0, 0, 1], [1, 1, 0, 0, 1], [1, 1, 0, 0, 1]]\n",
            "1 4\n",
            "[[1, 1, 0, 1, 1], [1, 1, 0, 1, 1], [1, 1, 0, 1, 1], [1, 1, 0, 1, 1], [1, 1, 0, 1, 1]]\n",
            "[[1, 1, 0, 1, 1], [1, 1, 0, 1, 1], [1, 1, 0, 1, 1], [1, 1, 0, 1, 1], [1, 1, 0, 1, 1]]\n",
            "2 3\n",
            "[[1, 1, 1, 1, 1], [1, 1, 1, 1, 1], [1, 1, 1, 1, 1], [1, 1, 1, 1, 1], [1, 1, 1, 1, 1]]\n",
            "[[1, 1, 1, 1, 1], [1, 1, 1, 1, 1], [1, 1, 1, 1, 1], [1, 1, 1, 1, 1], [1, 1, 1, 1, 1]]\n",
            "4 2\n",
            "5\n"
          ],
          "name": "stdout"
        }
      ]
    }
  ]
}