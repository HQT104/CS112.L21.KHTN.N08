{
  "nbformat": 4,
  "nbformat_minor": 0,
  "metadata": {
    "colab": {
      "name": "Untitled5.ipynb",
      "provenance": [],
      "collapsed_sections": []
    },
    "kernelspec": {
      "name": "python3",
      "display_name": "Python 3"
    },
    "language_info": {
      "name": "python"
    }
  },
  "cells": [
    {
      "cell_type": "markdown",
      "metadata": {
        "id": "3q7jGvMkdcoy"
      },
      "source": [
        "**1. Chứng minh bài toán tìm cây khung nhỏ nhất sử dụng thuật toán Prim có đặc điểm nhận dạng của thuật toán tham lam.**\n",
        "\n",
        "- Có đặc tính tham lam: Chọn giải pháp tốt nhất hiện tại, không xem xét lại lựa chon của mình.\n",
        "\n",
        "- Có cấu trúc con tối ưu: Lời giải tối ưu của các bài toán con sẽ dẫn đến lời giải tối ưu của cả bài toán.\n",
        "\n",
        "**2. Chứng minh thuật toán tham lam áp dụng cho activity selection sẽ ra kết quả tối ưu (the correctness of greedy algorithms)**\n",
        "\n",
        "Tại một số thời điểm, thuật toán tham lam đã chọn một cạnh không có trọng số tối thiểu, nhưng nó luôn chọn các cạnh có trọng số nhỏ nhất. Do đó nó sẽ luôn cho kết quả chính xác. Cây kéo dài tối thiểu của V đỉnh phải có ít nhất V-1 cạnh và không được chứa chu trình. Nên là thuật toán sẽ không chọn thêm cạnh nào nữa."
      ]
    }
  ]
}