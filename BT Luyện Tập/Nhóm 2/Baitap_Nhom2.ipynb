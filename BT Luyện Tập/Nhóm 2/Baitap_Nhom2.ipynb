{
  "nbformat": 4,
  "nbformat_minor": 0,
  "metadata": {
    "colab": {
      "name": "Baitap_Nhom2.ipynb",
      "provenance": [],
      "collapsed_sections": []
    },
    "kernelspec": {
      "name": "python3",
      "display_name": "Python 3"
    },
    "language_info": {
      "name": "python"
    }
  },
  "cells": [
    {
      "cell_type": "markdown",
      "metadata": {
        "id": "45qv7aN-4Uzq"
      },
      "source": [
        "\n",
        "Yêu cầu: Chứng minh bài toán tìm cây khung nhỏ nhất sử dụng thuật toán Prim có đặc điểm nhận dạng của thuật toán tham lam.\n",
        "\n",
        "- Có cấu trúc con tối ưu: Trong thuật toán Prim mỗi khi ta thêm một đỉnh mới vào mstSet thì ta luôn được một cây khung nhỏ nhất của các đỉnh đó. Sau khi thêm tất cả các đỉnh vào mstSet thì thuật toán dừng lại.\n",
        "- Có đặc tính tham lam: Trong thuật toán ta sẽ không so sánh lại với các cạnh đã chọn."
      ]
    }
  ]
}